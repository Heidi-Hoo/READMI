{
 "cells": [
  {
   "cell_type": "code",
   "execution_count": 8,
   "id": "15534b17-9f01-4fce-bebb-6611574feb04",
   "metadata": {
    "tags": []
   },
   "outputs": [],
   "source": [
    "#Exercise 2: Create markdown cell with title of the notebook"
   ]
  },
  {
   "cell_type": "markdown",
   "id": "47382360-330e-405b-a251-f8cff024f343",
   "metadata": {},
   "source": [
    "# Data Science Tools and Ecosystem"
   ]
  },
  {
   "cell_type": "code",
   "execution_count": 9,
   "id": "a85f3b05-4525-46b4-84e8-82a266fec5f4",
   "metadata": {
    "tags": []
   },
   "outputs": [],
   "source": [
    "#Exercise 3 - Create a markdown cell for an introduction"
   ]
  },
  {
   "cell_type": "markdown",
   "id": "02f5323c-9cd2-4370-9506-4973d2100b49",
   "metadata": {},
   "source": [
    "In this notebook, Data Science Tools and Ecosystem are summarized."
   ]
  },
  {
   "cell_type": "code",
   "execution_count": 10,
   "id": "8279ad28-9a2c-419f-84c2-ec1c9b6975dd",
   "metadata": {},
   "outputs": [],
   "source": [
    "#Exercise 10 - Insert a markdown cell to list Objectives"
   ]
  },
  {
   "cell_type": "markdown",
   "id": "ad9c39e9-4f6a-4dd4-b908-c0b20642cfd0",
   "metadata": {},
   "source": [
    "## Objectives:\n",
    "- List popular languages for Data Science\n",
    "- List libraries commonly used by Data Scientists\n",
    "- List Data Science tools\n",
    "- List examples of evaluating arithmetic expressions in Python"
   ]
  },
  {
   "cell_type": "code",
   "execution_count": 11,
   "id": "26a80dfb-23a6-43a9-8d0c-a43d3298cceb",
   "metadata": {},
   "outputs": [],
   "source": [
    "#Exercise 4 - Create a markdown cell to list data science languages"
   ]
  },
  {
   "cell_type": "markdown",
   "id": "8fae108c-03ca-466e-8ae7-0dc7eeab58c9",
   "metadata": {},
   "source": [
    "Some of the popular languages that Data Scientists uses are:\n",
    "1. Python\n",
    "2. R\n",
    "3. SQL"
   ]
  },
  {
   "cell_type": "code",
   "execution_count": 12,
   "id": "ba20db1d-86fa-4ead-82da-e017131c6e52",
   "metadata": {},
   "outputs": [],
   "source": [
    "#Exercise 5 - Create a markdown cell to list data science libraries"
   ]
  },
  {
   "cell_type": "markdown",
   "id": "ea7b69df-1496-47c4-8964-cdb963ce9688",
   "metadata": {},
   "source": [
    "Some of the commonly used librabies by Data Scientists include:\n",
    "1. Pandas\n",
    "2. NumPy\n",
    "3. Matplotlib"
   ]
  },
  {
   "cell_type": "code",
   "execution_count": 13,
   "id": "3e1f9c94-56fc-4276-bf9d-7af1183625c5",
   "metadata": {},
   "outputs": [],
   "source": [
    "#Exercise 6 - Create a markdown cell with a table of Data Science tools\n",
    "##three development environment open source tools used in data science"
   ]
  },
  {
   "cell_type": "markdown",
   "id": "21fd8d4c-0d6c-4672-b7b7-e5efef1890d2",
   "metadata": {},
   "source": [
    "| Data Science Tools |\n",
    "| ------------------ |\n",
    "| Jupiter Noteabook |\n",
    "| RStudio |\n",
    "| Apache Spark |"
   ]
  },
  {
   "cell_type": "code",
   "execution_count": 14,
   "id": "803c268a-27d3-4b6b-aeca-669f62cf502f",
   "metadata": {},
   "outputs": [],
   "source": [
    "#Exercise 7 - Create a markdown cell introducing arithmetic expression examples"
   ]
  },
  {
   "cell_type": "markdown",
   "id": "8c56f9c7-27bc-45e9-9b00-c6441dab8179",
   "metadata": {},
   "source": [
    "### Below are a few examples of evaluating arithmetic expressions in Pytho\n",
    "1. Addition (+)\n",
    "2. Substraction (-)\n",
    "3. Multiplication (*)\n",
    "4. Division (/)"
   ]
  },
  {
   "cell_type": "code",
   "execution_count": 15,
   "id": "3afa15d0-50fd-4cc8-853c-e7c955ee19f8",
   "metadata": {},
   "outputs": [],
   "source": [
    "#Exercise 8 - Create a code cell to multiply and add numbers\n",
    "##This a simple arithmetic expression to mutiply then add integers"
   ]
  },
  {
   "cell_type": "code",
   "execution_count": 16,
   "id": "4ea24e80-f215-471f-81ad-2d18474b8e57",
   "metadata": {
    "tags": []
   },
   "outputs": [
    {
     "data": {
      "text/plain": [
       "17"
      ]
     },
     "execution_count": 16,
     "metadata": {},
     "output_type": "execute_result"
    }
   ],
   "source": [
    "(3*4)+5"
   ]
  },
  {
   "cell_type": "code",
   "execution_count": 17,
   "id": "082c4771-696e-4770-bbec-932824fa18f9",
   "metadata": {},
   "outputs": [],
   "source": [
    "#Exercise 9 - Create a code cell to convert minutes to hours\n",
    "##This will convert 200 minutes to hours by diving by 60"
   ]
  },
  {
   "cell_type": "code",
   "execution_count": 18,
   "id": "b3cc4dad-afce-434b-9472-8488480220f4",
   "metadata": {
    "tags": []
   },
   "outputs": [
    {
     "data": {
      "text/plain": [
       "3.3333333333333335"
      ]
     },
     "execution_count": 18,
     "metadata": {},
     "output_type": "execute_result"
    }
   ],
   "source": [
    "200/60"
   ]
  },
  {
   "cell_type": "code",
   "execution_count": 19,
   "id": "2467595d-bc45-427a-8b7f-794f642f71cd",
   "metadata": {},
   "outputs": [],
   "source": [
    "#Exercise 11 - Create a markdown cell to indicate the Author's name"
   ]
  },
  {
   "cell_type": "markdown",
   "id": "8f7323d2-e175-401f-b8be-26e3e4fa5337",
   "metadata": {},
   "source": [
    "## Author\n",
    "Hoo Yan Peng"
   ]
  }
 ],
 "metadata": {
  "kernelspec": {
   "display_name": "Python",
   "language": "python",
   "name": "conda-env-python-py"
  },
  "language_info": {
   "codemirror_mode": {
    "name": "ipython",
    "version": 3
   },
   "file_extension": ".py",
   "mimetype": "text/x-python",
   "name": "python",
   "nbconvert_exporter": "python",
   "pygments_lexer": "ipython3",
   "version": "3.7.12"
  }
 },
 "nbformat": 4,
 "nbformat_minor": 5
}
